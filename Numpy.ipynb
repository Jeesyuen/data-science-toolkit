{
  "nbformat": 4,
  "nbformat_minor": 0,
  "metadata": {
    "colab": {
      "provenance": [],
      "authorship_tag": "ABX9TyMpTeuOXeVKazWrdBNkX3qY",
      "include_colab_link": true
    },
    "kernelspec": {
      "name": "python3",
      "display_name": "Python 3"
    },
    "language_info": {
      "name": "python"
    }
  },
  "cells": [
    {
      "cell_type": "markdown",
      "metadata": {
        "id": "view-in-github",
        "colab_type": "text"
      },
      "source": [
        "<a href=\"https://colab.research.google.com/github/Jeesyuen/data-science-toolkit/blob/main/Numpy.ipynb\" target=\"_parent\"><img src=\"https://colab.research.google.com/assets/colab-badge.svg\" alt=\"Open In Colab\"/></a>"
      ]
    },
    {
      "cell_type": "markdown",
      "source": [
        "Numpy"
      ],
      "metadata": {
        "id": "VCOVpKQKAxu5"
      }
    },
    {
      "cell_type": "code",
      "execution_count": 1,
      "metadata": {
        "id": "iNX1FZgkArQS"
      },
      "outputs": [],
      "source": [
        "import numpy as np"
      ]
    },
    {
      "cell_type": "code",
      "source": [
        "#numpy is like an array of number\n",
        "a=np.array([1,2,3])\n",
        "print(type(a), a.shape, a[1]) #type(a) → shows the data type of a, a.shape → shows the shape (or size) of the array,a[1] → gets the second element (since array indices start from 0)\n",
        "a[0]=10 #reading or writing\n",
        "print(a) #replace the first number (index 0) with 10"
      ],
      "metadata": {
        "colab": {
          "base_uri": "https://localhost:8080/"
        },
        "id": "_IaLtB2NBeH-",
        "outputId": "234d6a2a-9001-4fdf-dd1b-4b1267dd9f55"
      },
      "execution_count": 16,
      "outputs": [
        {
          "output_type": "stream",
          "name": "stdout",
          "text": [
            "<class 'numpy.ndarray'> (3,) 2\n",
            "[10  2  3]\n"
          ]
        }
      ]
    },
    {
      "cell_type": "code",
      "source": [
        "b=np.array ([[1,2,3],[4,5,6]]) # 2 dimension (2 rows and 2 columns)\n",
        "print(b)"
      ],
      "metadata": {
        "colab": {
          "base_uri": "https://localhost:8080/"
        },
        "id": "lMLuotskCO9s",
        "outputId": "31a6db8a-2a1d-4658-da0f-8556e2c51979"
      },
      "execution_count": 4,
      "outputs": [
        {
          "output_type": "stream",
          "name": "stdout",
          "text": [
            "[[1 2 3]\n",
            " [4 5 6]]\n"
          ]
        }
      ]
    },
    {
      "cell_type": "code",
      "source": [
        "b=np.array ([[1,2,3],[4,5,6],[7,8,9]]) # 3 dimension (3 rows and 3 columns)\n",
        "print(b)\n",
        "print(b.shape) # show dimensional"
      ],
      "metadata": {
        "colab": {
          "base_uri": "https://localhost:8080/"
        },
        "id": "7ZNEZNXNDAmd",
        "outputId": "4bff1552-a335-4549-e5f2-c9a1f443cb68"
      },
      "execution_count": 6,
      "outputs": [
        {
          "output_type": "stream",
          "name": "stdout",
          "text": [
            "[[1 2 3]\n",
            " [4 5 6]\n",
            " [7 8 9]]\n",
            "(3, 3)\n"
          ]
        }
      ]
    },
    {
      "cell_type": "code",
      "source": [
        "print(b[0,0], b[1,1]) #refer dimensional table to find which row and which column to print the number you want"
      ],
      "metadata": {
        "colab": {
          "base_uri": "https://localhost:8080/"
        },
        "id": "a5b0aj3VDRDw",
        "outputId": "1603fa8d-85c3-4d04-a571-062b8f4339b0"
      },
      "execution_count": 8,
      "outputs": [
        {
          "output_type": "stream",
          "name": "stdout",
          "text": [
            "1 5\n"
          ]
        }
      ]
    },
    {
      "cell_type": "code",
      "source": [
        "n1=np.zeros((2,2)) # np.zeros means creates an array filled with zeros\n",
        "#numbers in the bracket means how many rows and how many columns (means 2 rows and 2 columns here)\n",
        "print(n1) # the numbers printed out got decimal cause numpy use float"
      ],
      "metadata": {
        "colab": {
          "base_uri": "https://localhost:8080/"
        },
        "id": "NCXmUJFpDNMZ",
        "outputId": "8deb215f-6643-43c2-b0ac-d252684faf17"
      },
      "execution_count": 9,
      "outputs": [
        {
          "output_type": "stream",
          "name": "stdout",
          "text": [
            "[[0. 0.]\n",
            " [0. 0.]]\n"
          ]
        }
      ]
    },
    {
      "cell_type": "code",
      "source": [
        "n2=np.ones((1,2)) #np.ones means creates an array filled with 1 (same concept)\n",
        "print(n2)"
      ],
      "metadata": {
        "colab": {
          "base_uri": "https://localhost:8080/"
        },
        "id": "iFn0nCkOEFbf",
        "outputId": "982bcd7c-acb7-4ce4-e853-911b5c378790"
      },
      "execution_count": 10,
      "outputs": [
        {
          "output_type": "stream",
          "name": "stdout",
          "text": [
            "[[1. 1.]]\n"
          ]
        }
      ]
    },
    {
      "cell_type": "code",
      "source": [
        "n3=np.full((2,2),7) #np.full() creates numpy array of a given shape and fills it with a specific value\n",
        "#(2, 2) → means 2 rows and 2 columns, 7 → means every element will be filled with 7\n",
        "print(n3)"
      ],
      "metadata": {
        "colab": {
          "base_uri": "https://localhost:8080/"
        },
        "id": "1ZuS5EieF9qH",
        "outputId": "6415abe3-453c-4625-d2b9-fad926e88927"
      },
      "execution_count": 11,
      "outputs": [
        {
          "output_type": "stream",
          "name": "stdout",
          "text": [
            "[[7 7]\n",
            " [7 7]]\n"
          ]
        }
      ]
    },
    {
      "cell_type": "code",
      "source": [
        "n4=np.eye(3) #np.eye() means to create an identity matrix\n",
        "print(n4)"
      ],
      "metadata": {
        "colab": {
          "base_uri": "https://localhost:8080/"
        },
        "id": "WUKAz1_TGEKO",
        "outputId": "b3251e45-bba6-40f0-d6a8-4e4ef20060a5"
      },
      "execution_count": 12,
      "outputs": [
        {
          "output_type": "stream",
          "name": "stdout",
          "text": [
            "[[1. 0. 0.]\n",
            " [0. 1. 0.]\n",
            " [0. 0. 1.]]\n"
          ]
        }
      ]
    },
    {
      "cell_type": "code",
      "source": [
        "num4=np.random.random((2,2)) #creates random numbers between 0.0 and 1.0\n",
        "print(num4)"
      ],
      "metadata": {
        "colab": {
          "base_uri": "https://localhost:8080/"
        },
        "id": "SnyHh2GWGKUg",
        "outputId": "7042a139-426d-44cc-f4c6-fa0339a9ecb7"
      },
      "execution_count": 13,
      "outputs": [
        {
          "output_type": "stream",
          "name": "stdout",
          "text": [
            "[[0.59888911 0.22363061]\n",
            " [0.43909259 0.33702279]]\n"
          ]
        }
      ]
    },
    {
      "cell_type": "code",
      "source": [
        "any_var=b[1,:]# back to slicing concept\n",
        "print(any_var)# print second row (refer the 3x3 table)"
      ],
      "metadata": {
        "colab": {
          "base_uri": "https://localhost:8080/"
        },
        "id": "gKD6E4-iGQc-",
        "outputId": "abf6780e-9e2a-450f-86bd-43240fda924f"
      },
      "execution_count": 14,
      "outputs": [
        {
          "output_type": "stream",
          "name": "stdout",
          "text": [
            "[4 5 6]\n"
          ]
        }
      ]
    },
    {
      "cell_type": "code",
      "source": [
        "any_var=b[1,:2] #only print 2nd row first and second numbers (refer to the slicing method)\n",
        "print(any_var)"
      ],
      "metadata": {
        "colab": {
          "base_uri": "https://localhost:8080/"
        },
        "id": "EonXgndtGZeA",
        "outputId": "498e739e-b954-4100-e154-08b34907a54e"
      },
      "execution_count": 15,
      "outputs": [
        {
          "output_type": "stream",
          "name": "stdout",
          "text": [
            "[4 5]\n"
          ]
        }
      ]
    },
    {
      "cell_type": "markdown",
      "source": [],
      "metadata": {
        "id": "5Aa-1KU6DVMZ"
      }
    }
  ]
}