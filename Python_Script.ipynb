{
  "nbformat": 4,
  "nbformat_minor": 0,
  "metadata": {
    "colab": {
      "provenance": [],
      "authorship_tag": "ABX9TyPAN1QNn8fLRzS6vG7zL6IT",
      "include_colab_link": true
    },
    "kernelspec": {
      "name": "python3",
      "display_name": "Python 3"
    },
    "language_info": {
      "name": "python"
    }
  },
  "cells": [
    {
      "cell_type": "markdown",
      "metadata": {
        "id": "view-in-github",
        "colab_type": "text"
      },
      "source": [
        "<a href=\"https://colab.research.google.com/github/Jeesyuen/data-science-toolkit/blob/main/Python_Script.ipynb\" target=\"_parent\"><img src=\"https://colab.research.google.com/assets/colab-badge.svg\" alt=\"Open In Colab\"/></a>"
      ]
    },
    {
      "cell_type": "code",
      "execution_count": 1,
      "metadata": {
        "colab": {
          "base_uri": "https://localhost:8080/"
        },
        "id": "zushJW6ZyJrG",
        "outputId": "9ee1d45a-506a-4c61-d2f3-f64048b4426b"
      },
      "outputs": [
        {
          "output_type": "stream",
          "name": "stdout",
          "text": [
            "Python 3.12.12\n"
          ]
        }
      ],
      "source": [
        "!python --version\n"
      ]
    },
    {
      "cell_type": "markdown",
      "source": [
        "Basic data types"
      ],
      "metadata": {
        "id": "iMTWWiVnyed7"
      }
    },
    {
      "cell_type": "code",
      "source": [
        "x=3\n",
        "print(x, type(x))"
      ],
      "metadata": {
        "colab": {
          "base_uri": "https://localhost:8080/"
        },
        "id": "zgyY4zY1ybo3",
        "outputId": "0640d3c0-f4dd-49c9-9f43-9766f9be0312"
      },
      "execution_count": 2,
      "outputs": [
        {
          "output_type": "stream",
          "name": "stdout",
          "text": [
            "3 <class 'int'>\n"
          ]
        }
      ]
    },
    {
      "cell_type": "code",
      "source": [
        "print(x+1) #addition\n",
        "print(x-1)\n",
        "print(x*2)\n",
        "print(x**2)"
      ],
      "metadata": {
        "colab": {
          "base_uri": "https://localhost:8080/"
        },
        "id": "KLwFidn7zMjy",
        "outputId": "e5f6df7a-35ac-426f-aa39-7a73946d079c"
      },
      "execution_count": 3,
      "outputs": [
        {
          "output_type": "stream",
          "name": "stdout",
          "text": [
            "4\n",
            "2\n",
            "6\n",
            "9\n"
          ]
        }
      ]
    },
    {
      "cell_type": "code",
      "source": [
        "y=3.5\n",
        "print(y,type(y))\n",
        "print(y,y+1,y*2,y**2)"
      ],
      "metadata": {
        "colab": {
          "base_uri": "https://localhost:8080/"
        },
        "id": "9_PhOIL1zeJk",
        "outputId": "b3fdab15-603b-4ddf-cd87-561056016598"
      },
      "execution_count": 5,
      "outputs": [
        {
          "output_type": "stream",
          "name": "stdout",
          "text": [
            "3.5 <class 'float'>\n",
            "3.5 4.5 7.0 12.25\n"
          ]
        }
      ]
    },
    {
      "cell_type": "code",
      "source": [
        "#boolean\n",
        "t=True\n",
        "f=False\n",
        "#t,f= True, False\n",
        "print(type(t))"
      ],
      "metadata": {
        "colab": {
          "base_uri": "https://localhost:8080/"
        },
        "id": "HyAucMmmzzOz",
        "outputId": "0ec1ce82-e5c1-4766-db95-e13c659eb0a5"
      },
      "execution_count": 6,
      "outputs": [
        {
          "output_type": "stream",
          "name": "stdout",
          "text": [
            "<class 'bool'>\n"
          ]
        }
      ]
    },
    {
      "cell_type": "code",
      "source": [
        "#String\n",
        "var1=\"Hello\"\n",
        "var2=\"Class\"\n",
        "\n",
        "print(var1,len(var1))"
      ],
      "metadata": {
        "colab": {
          "base_uri": "https://localhost:8080/"
        },
        "id": "bqpabudp0HdA",
        "outputId": "d7026a3b-dcbd-49ab-a633-07b23e60b66c"
      },
      "execution_count": 8,
      "outputs": [
        {
          "output_type": "stream",
          "name": "stdout",
          "text": [
            "Hello 5\n"
          ]
        }
      ]
    },
    {
      "cell_type": "code",
      "source": [
        "new_var= var1+ \" \" + var2\n",
        "print(new_var)"
      ],
      "metadata": {
        "colab": {
          "base_uri": "https://localhost:8080/"
        },
        "id": "cpMPUehg0lqy",
        "outputId": "1e4672b2-9d91-41dd-beb4-d6cea949d6e8"
      },
      "execution_count": 10,
      "outputs": [
        {
          "output_type": "stream",
          "name": "stdout",
          "text": [
            "Hello Class\n"
          ]
        }
      ]
    },
    {
      "cell_type": "code",
      "source": [
        "another_var= \"{} {} {}\". format(var1, var2, 12)\n",
        "print(another_var)"
      ],
      "metadata": {
        "colab": {
          "base_uri": "https://localhost:8080/"
        },
        "id": "72OPKrJ21e0r",
        "outputId": "bd7ba3b3-59b2-4361-82b6-a8e0339cfd71"
      },
      "execution_count": 13,
      "outputs": [
        {
          "output_type": "stream",
          "name": "stdout",
          "text": [
            "Hello Class 12\n"
          ]
        }
      ]
    },
    {
      "cell_type": "code",
      "source": [
        "var3=\"hello\"\n",
        "print(var3.capitalize())\n",
        "print(var3.upper())\n",
        "print(var3.replace(\"h\",\"z\"))\n",
        "print(\"Data\".strip())"
      ],
      "metadata": {
        "colab": {
          "base_uri": "https://localhost:8080/"
        },
        "id": "-sCYqlU0110N",
        "outputId": "68f55cde-aa06-4176-bc4b-fe8262b08841"
      },
      "execution_count": 24,
      "outputs": [
        {
          "output_type": "stream",
          "name": "stdout",
          "text": [
            "Hello\n",
            "HELLO\n",
            "zello\n",
            "Data\n"
          ]
        }
      ]
    },
    {
      "cell_type": "markdown",
      "source": [
        "Containers"
      ],
      "metadata": {
        "id": "Eb2ELf7d3TP6"
      }
    },
    {
      "cell_type": "markdown",
      "source": [
        "List, Dictionaries, Set, Tuples"
      ],
      "metadata": {
        "id": "F4-UeBBe3yMQ"
      }
    },
    {
      "cell_type": "markdown",
      "source": [
        "###List"
      ],
      "metadata": {
        "id": "cyrtxjhg4Beu"
      }
    },
    {
      "cell_type": "code",
      "source": [
        "list1=[3,12,11,14,9]\n",
        "print(list1, list1[2])"
      ],
      "metadata": {
        "colab": {
          "base_uri": "https://localhost:8080/"
        },
        "id": "K_yB6a6P3Ujl",
        "outputId": "3fb54c06-3e8f-4eaa-a8ec-17ccf67200a2"
      },
      "execution_count": 28,
      "outputs": [
        {
          "output_type": "stream",
          "name": "stdout",
          "text": [
            "[3, 12, 11, 14, 9] 11\n"
          ]
        }
      ]
    },
    {
      "cell_type": "code",
      "source": [
        "print(list1[-1])\n",
        "print(list1[4]) #Writing at index 2 or fetching data from index 2\n",
        "print(list1)"
      ],
      "metadata": {
        "colab": {
          "base_uri": "https://localhost:8080/"
        },
        "id": "eVaJXXMD59nA",
        "outputId": "97afc780-3f0f-4d9e-f283-aa6bd1d978f5"
      },
      "execution_count": 31,
      "outputs": [
        {
          "output_type": "stream",
          "name": "stdout",
          "text": [
            "9\n",
            "9\n",
            "[3, 12, 11, 14, 9]\n"
          ]
        }
      ]
    },
    {
      "cell_type": "code",
      "source": [
        "list1[3]=\"data\" # replacing the value present at index 3\n",
        "print(list1)"
      ],
      "metadata": {
        "colab": {
          "base_uri": "https://localhost:8080/"
        },
        "id": "VGEbf0gU6pfp",
        "outputId": "f2b083b3-d592-43bf-e73c-ca4ad83fe32d"
      },
      "execution_count": 33,
      "outputs": [
        {
          "output_type": "stream",
          "name": "stdout",
          "text": [
            "[3, 12, 11, 'data', 9]\n"
          ]
        }
      ]
    },
    {
      "cell_type": "code",
      "source": [
        "list1.append(\"Science\")\n",
        "print(list1)\n",
        "#the size of list is flexible (expand the list by adding one number at the back)\n"
      ],
      "metadata": {
        "colab": {
          "base_uri": "https://localhost:8080/"
        },
        "id": "nwZSx1v-69Y_",
        "outputId": "68a71980-6b3c-4486-b692-fec6b0291c43"
      },
      "execution_count": 34,
      "outputs": [
        {
          "output_type": "stream",
          "name": "stdout",
          "text": [
            "[3, 12, 11, 'data', 9, 'Science']\n"
          ]
        }
      ]
    },
    {
      "cell_type": "code",
      "source": [
        "list1.pop(2) #deletes the last element\n",
        "print(list1)\n",
        "#continue running this code will delete the number starting from science, 9, data.... until second index"
      ],
      "metadata": {
        "colab": {
          "base_uri": "https://localhost:8080/",
          "height": 176
        },
        "id": "PMwdFnXp7NCN",
        "outputId": "53e64280-a858-436b-d269-07484533cf94"
      },
      "execution_count": 40,
      "outputs": [
        {
          "output_type": "error",
          "ename": "IndexError",
          "evalue": "pop index out of range",
          "traceback": [
            "\u001b[0;31m---------------------------------------------------------------------------\u001b[0m",
            "\u001b[0;31mIndexError\u001b[0m                                Traceback (most recent call last)",
            "\u001b[0;32m/tmp/ipython-input-3772262613.py\u001b[0m in \u001b[0;36m<cell line: 0>\u001b[0;34m()\u001b[0m\n\u001b[0;32m----> 1\u001b[0;31m \u001b[0mlist1\u001b[0m\u001b[0;34m.\u001b[0m\u001b[0mpop\u001b[0m\u001b[0;34m(\u001b[0m\u001b[0;36m2\u001b[0m\u001b[0;34m)\u001b[0m \u001b[0;31m#deletes the last element\u001b[0m\u001b[0;34m\u001b[0m\u001b[0;34m\u001b[0m\u001b[0m\n\u001b[0m\u001b[1;32m      2\u001b[0m \u001b[0mprint\u001b[0m\u001b[0;34m(\u001b[0m\u001b[0mlist1\u001b[0m\u001b[0;34m)\u001b[0m\u001b[0;34m\u001b[0m\u001b[0;34m\u001b[0m\u001b[0m\n\u001b[1;32m      3\u001b[0m \u001b[0;31m#continue running this code will delete the number starting from science, 9, data.... until second index\u001b[0m\u001b[0;34m\u001b[0m\u001b[0;34m\u001b[0m\u001b[0m\n",
            "\u001b[0;31mIndexError\u001b[0m: pop index out of range"
          ]
        }
      ]
    },
    {
      "cell_type": "code",
      "source": [
        "numbers=list(range(6))\n",
        "print(numbers)"
      ],
      "metadata": {
        "colab": {
          "base_uri": "https://localhost:8080/"
        },
        "id": "JLrdttQv7GY-",
        "outputId": "17e80588-307d-4654-dd16-ee7c74dd2f13"
      },
      "execution_count": 41,
      "outputs": [
        {
          "output_type": "stream",
          "name": "stdout",
          "text": [
            "[0, 1, 2, 3, 4, 5]\n"
          ]
        }
      ]
    },
    {
      "cell_type": "code",
      "source": [
        "#slicing\n",
        "list2=[11,2,5,18,3,20] # Changed from tuple to list\n",
        "print(list2[2:4]) #value at index 2 and 3 will be printed only\n",
        "print(list2[2:5]) #value at index 2 to 5 will be printed\n",
        "print(list2[2:]) #if we din key in anything after: means we will print everything after index 2\n",
        "print(list2[:4]) # print everything before index 4\n",
        "print(list2[:]) # print all\n",
        "print(list2[:-1]) #print everything before last index\n",
        "list2[2:4]= [50,100]\n",
        "print(list2) # replace index 2 and 3 by 50 and 100"
      ],
      "metadata": {
        "colab": {
          "base_uri": "https://localhost:8080/"
        },
        "id": "CGLc9RFR8CiI",
        "outputId": "f4cbdd62-627c-4d28-9e32-b76e5c5cf4f9"
      },
      "execution_count": 56,
      "outputs": [
        {
          "output_type": "stream",
          "name": "stdout",
          "text": [
            "[5, 18]\n",
            "[5, 18, 3]\n",
            "[5, 18, 3, 20]\n",
            "[11, 2, 5, 18]\n",
            "[11, 2, 5, 18, 3, 20]\n",
            "[11, 2, 5, 18, 3]\n",
            "[11, 2, 50, 100, 3, 20]\n"
          ]
        }
      ]
    },
    {
      "cell_type": "markdown",
      "source": [
        "Dictionary"
      ],
      "metadata": {
        "id": "3HYarKhm9z5w"
      }
    },
    {
      "cell_type": "code",
      "source": [
        "d={\"cat\":\"cute\",\"dog\":\"furry\"} #key-value, key can be any type\n",
        "print(d[\"cat\"])\n",
        "print(\"cat\" in d)"
      ],
      "metadata": {
        "colab": {
          "base_uri": "https://localhost:8080/"
        },
        "id": "W7JQCdrU8hKM",
        "outputId": "3c0bd958-a942-40aa-b360-6d2f189caf01"
      },
      "execution_count": 57,
      "outputs": [
        {
          "output_type": "stream",
          "name": "stdout",
          "text": [
            "cute\n",
            "True\n"
          ]
        }
      ]
    },
    {
      "cell_type": "code",
      "source": [
        "d[\"dog\"]=\"not furry\"\n",
        "print(d)"
      ],
      "metadata": {
        "colab": {
          "base_uri": "https://localhost:8080/"
        },
        "id": "XOSsr3Tc_lcF",
        "outputId": "0175fcfc-fd4d-45a7-954f-731e025fed44"
      },
      "execution_count": 58,
      "outputs": [
        {
          "output_type": "stream",
          "name": "stdout",
          "text": [
            "{'cat': 'cute', 'dog': 'not furry'}\n"
          ]
        }
      ]
    }
  ]
}